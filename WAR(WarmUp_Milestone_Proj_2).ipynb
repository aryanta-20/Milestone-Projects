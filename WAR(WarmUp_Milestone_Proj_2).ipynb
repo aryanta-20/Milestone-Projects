{
 "cells": [
  {
   "cell_type": "code",
   "execution_count": 1,
   "metadata": {},
   "outputs": [],
   "source": [
    "#CARD CLASS\n",
    "\n",
    "#SUIT, RANK, VALUE\n",
    "\n",
    "#DECK CLASS\n",
    "\n",
    "#PLAYER WHO CHOOSES FROM THE DECK\n",
    "\n",
    "import random\n",
    "\n",
    "suits = ('Hearts', 'Diamonds', 'Spades', 'Clubs')\n",
    "ranks = ('Two', 'Three', 'Four', 'Five', 'Six', 'Seven', 'Eight', 'Nine', 'Ten', 'Jack', 'Queen', 'King', 'Ace')\n",
    "values = {'Two':2, 'Three':3, 'Four':4, 'Five':5, 'Six':6, 'Seven':7, 'Eight':8, \n",
    "            'Nine':9, 'Ten':10, 'Jack':11, 'Queen':12, 'King':13, 'Ace':14}"
   ]
  },
  {
   "cell_type": "code",
   "execution_count": 2,
   "metadata": {},
   "outputs": [],
   "source": [
    "class Card():\n",
    "    \n",
    "    def __init__(self, suit, rank):\n",
    "        \n",
    "        self.suit = suit\n",
    "        self.rank = rank\n",
    "        self.value = values[rank]\n",
    "        \n",
    "    def __str__(self):\n",
    "        return self.rank + ' of ' + self.suit"
   ]
  },
  {
   "cell_type": "code",
   "execution_count": 3,
   "metadata": {},
   "outputs": [],
   "source": [
    "two_of_hearts = Card('Hearts','Two')"
   ]
  },
  {
   "cell_type": "code",
   "execution_count": 5,
   "metadata": {},
   "outputs": [
    {
     "name": "stdout",
     "output_type": "stream",
     "text": [
      "Two of Hearts\n"
     ]
    }
   ],
   "source": [
    "print(two_of_hearts)"
   ]
  },
  {
   "cell_type": "code",
   "execution_count": 6,
   "metadata": {},
   "outputs": [],
   "source": [
    "three_of_clubs = Card('Clubs','Three')"
   ]
  },
  {
   "cell_type": "code",
   "execution_count": 7,
   "metadata": {},
   "outputs": [
    {
     "data": {
      "text/plain": [
       "'Three'"
      ]
     },
     "execution_count": 7,
     "metadata": {},
     "output_type": "execute_result"
    }
   ],
   "source": [
    "three_of_clubs.rank"
   ]
  },
  {
   "cell_type": "code",
   "execution_count": 8,
   "metadata": {},
   "outputs": [
    {
     "data": {
      "text/plain": [
       "'Clubs'"
      ]
     },
     "execution_count": 8,
     "metadata": {},
     "output_type": "execute_result"
    }
   ],
   "source": [
    "three_of_clubs.suit"
   ]
  },
  {
   "cell_type": "code",
   "execution_count": 9,
   "metadata": {},
   "outputs": [
    {
     "data": {
      "text/plain": [
       "3"
      ]
     },
     "execution_count": 9,
     "metadata": {},
     "output_type": "execute_result"
    }
   ],
   "source": [
    "three_of_clubs.value"
   ]
  },
  {
   "cell_type": "code",
   "execution_count": 10,
   "metadata": {},
   "outputs": [
    {
     "data": {
      "text/plain": [
       "False"
      ]
     },
     "execution_count": 10,
     "metadata": {},
     "output_type": "execute_result"
    }
   ],
   "source": [
    "two_of_hearts.value == three_of_clubs.value"
   ]
  },
  {
   "cell_type": "code",
   "execution_count": 42,
   "metadata": {},
   "outputs": [],
   "source": [
    "class Deck:\n",
    "    \n",
    "    def __init__(self):\n",
    "        \n",
    "        self.all_cards = []\n",
    "        \n",
    "        for suit in suits:\n",
    "            for rank in ranks:\n",
    "                card_created = Card(suit, rank)\n",
    "                \n",
    "                self.all_cards.append(card_created)\n",
    "                \n",
    "    def shuffle(self):\n",
    "        \n",
    "        random.shuffle(self.all_cards)\n",
    "        \n",
    "    def deal_one(self):\n",
    "        \n",
    "        return self.all_cards.pop()"
   ]
  },
  {
   "cell_type": "code",
   "execution_count": 43,
   "metadata": {},
   "outputs": [],
   "source": [
    "new_deck = Deck()"
   ]
  },
  {
   "cell_type": "code",
   "execution_count": 44,
   "metadata": {},
   "outputs": [
    {
     "name": "stdout",
     "output_type": "stream",
     "text": [
      "[<__main__.Card object at 0x000002882888D5E0>, <__main__.Card object at 0x000002882888DBE0>, <__main__.Card object at 0x000002882888D2E0>, <__main__.Card object at 0x000002882888DA30>, <__main__.Card object at 0x000002882888D790>, <__main__.Card object at 0x000002882888D160>, <__main__.Card object at 0x000002882888DE80>, <__main__.Card object at 0x000002882888DE20>, <__main__.Card object at 0x000002882888DAF0>, <__main__.Card object at 0x000002882888D490>, <__main__.Card object at 0x000002882888D040>, <__main__.Card object at 0x000002882888D700>, <__main__.Card object at 0x000002882888D460>, <__main__.Card object at 0x000002882888D8E0>, <__main__.Card object at 0x000002882888DBB0>, <__main__.Card object at 0x000002882888DA00>, <__main__.Card object at 0x000002882888D0D0>, <__main__.Card object at 0x000002882888D190>, <__main__.Card object at 0x000002882888D400>, <__main__.Card object at 0x000002882888D730>, <__main__.Card object at 0x000002882888D0A0>, <__main__.Card object at 0x000002882889F0D0>, <__main__.Card object at 0x000002882889F160>, <__main__.Card object at 0x000002882889F1F0>, <__main__.Card object at 0x000002882889F250>, <__main__.Card object at 0x000002882889F2B0>, <__main__.Card object at 0x000002882889F310>, <__main__.Card object at 0x000002882889F370>, <__main__.Card object at 0x000002882889F3D0>, <__main__.Card object at 0x000002882889F430>, <__main__.Card object at 0x000002882889F490>, <__main__.Card object at 0x000002882889F4F0>, <__main__.Card object at 0x000002882889F550>, <__main__.Card object at 0x000002882889F5B0>, <__main__.Card object at 0x000002882889F610>, <__main__.Card object at 0x000002882889F670>, <__main__.Card object at 0x000002882889F6D0>, <__main__.Card object at 0x000002882889F730>, <__main__.Card object at 0x000002882889F790>, <__main__.Card object at 0x000002882889F7F0>, <__main__.Card object at 0x000002882889F850>, <__main__.Card object at 0x000002882889F8B0>, <__main__.Card object at 0x000002882889F910>, <__main__.Card object at 0x000002882889F970>, <__main__.Card object at 0x000002882889F9D0>, <__main__.Card object at 0x000002882889FA30>, <__main__.Card object at 0x000002882889FA90>, <__main__.Card object at 0x000002882889FAF0>, <__main__.Card object at 0x000002882889FB50>, <__main__.Card object at 0x000002882889FBB0>, <__main__.Card object at 0x000002882889FC10>, <__main__.Card object at 0x000002882889FC70>]\n"
     ]
    }
   ],
   "source": [
    "print(new_deck.all_cards)"
   ]
  },
  {
   "cell_type": "code",
   "execution_count": 45,
   "metadata": {},
   "outputs": [
    {
     "data": {
      "text/plain": [
       "<__main__.Card at 0x2882888d5e0>"
      ]
     },
     "execution_count": 45,
     "metadata": {},
     "output_type": "execute_result"
    }
   ],
   "source": [
    "new_deck.all_cards[0]"
   ]
  },
  {
   "cell_type": "code",
   "execution_count": 46,
   "metadata": {},
   "outputs": [],
   "source": [
    "first_card = new_deck.all_cards[-1]"
   ]
  },
  {
   "cell_type": "code",
   "execution_count": 47,
   "metadata": {},
   "outputs": [
    {
     "data": {
      "text/plain": [
       "14"
      ]
     },
     "execution_count": 47,
     "metadata": {},
     "output_type": "execute_result"
    }
   ],
   "source": [
    "first_card.value"
   ]
  },
  {
   "cell_type": "code",
   "execution_count": 48,
   "metadata": {},
   "outputs": [
    {
     "name": "stdout",
     "output_type": "stream",
     "text": [
      "Two of Hearts\n",
      "Three of Hearts\n",
      "Four of Hearts\n",
      "Five of Hearts\n",
      "Six of Hearts\n",
      "Seven of Hearts\n",
      "Eight of Hearts\n",
      "Nine of Hearts\n",
      "Ten of Hearts\n",
      "Jack of Hearts\n",
      "Queen of Hearts\n",
      "King of Hearts\n",
      "Ace of Hearts\n",
      "Two of Diamonds\n",
      "Three of Diamonds\n",
      "Four of Diamonds\n",
      "Five of Diamonds\n",
      "Six of Diamonds\n",
      "Seven of Diamonds\n",
      "Eight of Diamonds\n",
      "Nine of Diamonds\n",
      "Ten of Diamonds\n",
      "Jack of Diamonds\n",
      "Queen of Diamonds\n",
      "King of Diamonds\n",
      "Ace of Diamonds\n",
      "Two of Spades\n",
      "Three of Spades\n",
      "Four of Spades\n",
      "Five of Spades\n",
      "Six of Spades\n",
      "Seven of Spades\n",
      "Eight of Spades\n",
      "Nine of Spades\n",
      "Ten of Spades\n",
      "Jack of Spades\n",
      "Queen of Spades\n",
      "King of Spades\n",
      "Ace of Spades\n",
      "Two of Clubs\n",
      "Three of Clubs\n",
      "Four of Clubs\n",
      "Five of Clubs\n",
      "Six of Clubs\n",
      "Seven of Clubs\n",
      "Eight of Clubs\n",
      "Nine of Clubs\n",
      "Ten of Clubs\n",
      "Jack of Clubs\n",
      "Queen of Clubs\n",
      "King of Clubs\n",
      "Ace of Clubs\n"
     ]
    }
   ],
   "source": [
    "for card_object in new_deck.all_cards:\n",
    "    print(card_object)"
   ]
  },
  {
   "cell_type": "code",
   "execution_count": 49,
   "metadata": {},
   "outputs": [],
   "source": [
    "new_deck.shuffle()"
   ]
  },
  {
   "cell_type": "code",
   "execution_count": 50,
   "metadata": {},
   "outputs": [
    {
     "name": "stdout",
     "output_type": "stream",
     "text": [
      "King of Hearts\n"
     ]
    }
   ],
   "source": [
    "print(new_deck.all_cards[-1])"
   ]
  },
  {
   "cell_type": "code",
   "execution_count": 52,
   "metadata": {},
   "outputs": [],
   "source": [
    "mycard = new_deck.all_cards.pop()"
   ]
  },
  {
   "cell_type": "code",
   "execution_count": 54,
   "metadata": {},
   "outputs": [
    {
     "name": "stdout",
     "output_type": "stream",
     "text": [
      "King of Hearts\n"
     ]
    }
   ],
   "source": [
    "print(mycard)"
   ]
  },
  {
   "cell_type": "code",
   "execution_count": 58,
   "metadata": {},
   "outputs": [
    {
     "data": {
      "text/plain": [
       "51"
      ]
     },
     "execution_count": 58,
     "metadata": {},
     "output_type": "execute_result"
    }
   ],
   "source": [
    "len(new_deck.all_cards)"
   ]
  },
  {
   "cell_type": "code",
   "execution_count": 73,
   "metadata": {},
   "outputs": [],
   "source": [
    "class Player():\n",
    "    \n",
    "    def __init__(self, name):\n",
    "        \n",
    "        self.name = name \n",
    "        self.all_cards = []\n",
    "        \n",
    "    def remove_one(self):\n",
    "        return self.all_cards.pop(0)\n",
    "    \n",
    "    def add_cards(self, new_cards):\n",
    "        if type(new_cards) == type([]):\n",
    "            #for a list of multiple card objects\n",
    "            self.all_cards.extend(new_cards)\n",
    "        else:\n",
    "            #for a single card object\n",
    "            self.all_cards.append(new_cards)\n",
    "    \n",
    "    def __str__(self):\n",
    "        \n",
    "        return f'Player {self.name} has {len(self.all_cards)} cards'"
   ]
  },
  {
   "cell_type": "code",
   "execution_count": 74,
   "metadata": {},
   "outputs": [],
   "source": [
    "new_player = Player('Aryanta')"
   ]
  },
  {
   "cell_type": "code",
   "execution_count": 75,
   "metadata": {},
   "outputs": [
    {
     "data": {
      "text/plain": [
       "'Aryanta'"
      ]
     },
     "execution_count": 75,
     "metadata": {},
     "output_type": "execute_result"
    }
   ],
   "source": [
    "new_player.name"
   ]
  },
  {
   "cell_type": "code",
   "execution_count": 86,
   "metadata": {},
   "outputs": [
    {
     "name": "stdout",
     "output_type": "stream",
     "text": [
      "Player Aryanta has 1 cards\n"
     ]
    }
   ],
   "source": [
    "print(new_player)"
   ]
  },
  {
   "cell_type": "code",
   "execution_count": 85,
   "metadata": {},
   "outputs": [
    {
     "data": {
      "text/plain": [
       "'Two of Spades'"
      ]
     },
     "execution_count": 85,
     "metadata": {},
     "output_type": "execute_result"
    }
   ],
   "source": [
    "new_player.remove_one()"
   ]
  },
  {
   "cell_type": "code",
   "execution_count": 122,
   "metadata": {},
   "outputs": [],
   "source": [
    "#game setup\n",
    "\n",
    "player_1 = Player('One')\n",
    "player_2 = Player('Two')\n",
    "\n",
    "new_deck = Deck()\n",
    "new_deck.shuffle()\n",
    "\n",
    "for x in range(26):\n",
    "    player_1.add_cards(new_deck.deal_one())\n",
    "    player_2.add_cards(new_deck.deal_one())"
   ]
  },
  {
   "cell_type": "code",
   "execution_count": 123,
   "metadata": {},
   "outputs": [
    {
     "name": "stdout",
     "output_type": "stream",
     "text": [
      "Eight of Diamonds\n"
     ]
    }
   ],
   "source": [
    "print(player_1.all_cards[0])"
   ]
  },
  {
   "cell_type": "code",
   "execution_count": 124,
   "metadata": {},
   "outputs": [],
   "source": [
    "game_on = True"
   ]
  },
  {
   "cell_type": "code",
   "execution_count": 125,
   "metadata": {},
   "outputs": [
    {
     "name": "stdout",
     "output_type": "stream",
     "text": [
      "Round is 1\n",
      "Round is 2\n",
      "Round is 3\n",
      "Round is 4\n",
      "Round is 5\n",
      "Round is 6\n",
      "WAR!\n",
      "Round is 7\n",
      "Round is 8\n",
      "Round is 9\n",
      "Round is 10\n",
      "Round is 11\n",
      "Round is 12\n",
      "Round is 13\n",
      "Round is 14\n",
      "Round is 15\n",
      "Round is 16\n",
      "Round is 17\n",
      "Round is 18\n",
      "Round is 19\n",
      "Round is 20\n",
      "Round is 21\n",
      "WAR!\n",
      "Round is 22\n",
      "Round is 23\n",
      "Round is 24\n",
      "Round is 25\n",
      "Round is 26\n",
      "Round is 27\n",
      "Round is 28\n",
      "Round is 29\n",
      "Round is 30\n",
      "Round is 31\n",
      "Round is 32\n",
      "Round is 33\n",
      "Round is 34\n",
      "Round is 35\n",
      "Round is 36\n",
      "Round is 37\n",
      "Round is 38\n",
      "Round is 39\n",
      "Round is 40\n",
      "Round is 41\n",
      "Round is 42\n",
      "Round is 43\n",
      "Round is 44\n",
      "Round is 45\n",
      "Round is 46\n",
      "Round is 47\n",
      "Round is 48\n",
      "Round is 49\n",
      "Round is 50\n",
      "Round is 51\n",
      "Round is 52\n",
      "Round is 53\n",
      "Round is 54\n",
      "Round is 55\n",
      "Round is 56\n",
      "Round is 57\n",
      "Round is 58\n",
      "Round is 59\n",
      "Round is 60\n",
      "Round is 61\n",
      "Round is 62\n",
      "Round is 63\n",
      "Round is 64\n",
      "Round is 65\n",
      "Round is 66\n",
      "Round is 67\n",
      "Round is 68\n",
      "Round is 69\n",
      "Round is 70\n",
      "Round is 71\n",
      "Round is 72\n",
      "Round is 73\n",
      "Round is 74\n",
      "Round is 75\n",
      "Round is 76\n",
      "Round is 77\n",
      "Round is 78\n",
      "Round is 79\n",
      "Round is 80\n",
      "WAR!\n",
      "Round is 81\n",
      "Round is 82\n",
      "Round is 83\n",
      "Round is 84\n",
      "Round is 85\n",
      "Round is 86\n",
      "WAR!\n",
      "Round is 87\n",
      "Player 1 is out of cards. Player 2 wins!\n"
     ]
    }
   ],
   "source": [
    "round_num = 0 \n",
    "\n",
    "while game_on:\n",
    "    \n",
    "    round_num += 1\n",
    "    print(f'Round is {round_num}')\n",
    "          \n",
    "    if len(player_1.all_cards) == 0:\n",
    "          print('Player 1 is out of cards. Player 2 wins!')\n",
    "          game_on = False\n",
    "          break \n",
    "          \n",
    "    if len(player_2.all_cards) == 0:\n",
    "          print('Player 2 is out of cards. Player 1 wins!')\n",
    "          game_on = False\n",
    "          break \n",
    "          \n",
    "    player1_cards = []\n",
    "    player1_cards.append(player_1.remove_one())\n",
    "          \n",
    "    player2_cards = []\n",
    "    player2_cards.append(player_2.remove_one())\n",
    "          \n",
    "          \n",
    "    at_war = True \n",
    "          \n",
    "    while at_war:\n",
    "          \n",
    "          if player1_cards[-1].value > player2_cards[-1].value:\n",
    "                  player_1.add_cards(player1_cards)\n",
    "                  player_1.add_cards(player2_cards)\n",
    "\n",
    "                  at_war = False\n",
    "                \n",
    "          elif player1_cards[-1].value< player2_cards[-1].value:\n",
    "                  player_2.add_cards(player1_cards)\n",
    "                  player_2.add_cards(player2_cards)\n",
    "          \n",
    "                  at_war = False\n",
    "          \n",
    "          else:\n",
    "              print('WAR!')\n",
    "          \n",
    "              if len(player_1.all_cards) < 5:\n",
    "                  print('Player 1 unable to declare war.')\n",
    "                  print('Player 2 wins!')\n",
    "                  game_on = False\n",
    "                  break \n",
    "          \n",
    "              elif len(player_2.all_cards) < 5:\n",
    "                  print('Player 2 unable to declare war.')\n",
    "                  print('Player 1 wins!')\n",
    "                  game_on = False\n",
    "                  break\n",
    "          \n",
    "              else:\n",
    "                  for num in range(5):\n",
    "                    player1_cards.append(player_1.remove_one())\n",
    "                    player2_cards.append(player_2.remove_one())"
   ]
  },
  {
   "cell_type": "code",
   "execution_count": null,
   "metadata": {},
   "outputs": [],
   "source": []
  }
 ],
 "metadata": {
  "kernelspec": {
   "display_name": "Python 3",
   "language": "python",
   "name": "python3"
  },
  "language_info": {
   "codemirror_mode": {
    "name": "ipython",
    "version": 3
   },
   "file_extension": ".py",
   "mimetype": "text/x-python",
   "name": "python",
   "nbconvert_exporter": "python",
   "pygments_lexer": "ipython3",
   "version": "3.8.5"
  }
 },
 "nbformat": 4,
 "nbformat_minor": 4
}
