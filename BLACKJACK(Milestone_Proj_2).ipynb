{
 "cells": [
  {
   "cell_type": "code",
   "execution_count": 1,
   "metadata": {},
   "outputs": [],
   "source": [
    "import random\n",
    "\n",
    "\n",
    "suits = ('Hearts', 'Diamonds', 'Spades', 'Clubs')\n",
    "ranks = ('Two', 'Three', 'Four', 'Five', 'Six', 'Seven', 'Eight', 'Nine', 'Ten', 'Jack', 'Queen', 'King', 'Ace')\n",
    "values = {'Two':2, 'Three':3, 'Four':4, 'Five':5, 'Six':6, 'Seven':7, 'Eight':8, 'Nine':9, 'Ten':10, 'Jack':10,\n",
    "         'Queen':10, 'King':10, 'Ace':11}\n",
    "\n",
    "playing = True "
   ]
  },
  {
   "cell_type": "code",
   "execution_count": 2,
   "metadata": {},
   "outputs": [],
   "source": [
    "class Card():\n",
    "    \n",
    "    def __init__(self, suit, rank):\n",
    "        \n",
    "        self.suit = suit \n",
    "        self.rank = rank\n",
    "        \n",
    "    def __str__ (self):\n",
    "        \n",
    "        return self.rank + ' of ' + self.suit"
   ]
  },
  {
   "cell_type": "code",
   "execution_count": 3,
   "metadata": {},
   "outputs": [],
   "source": [
    "new_card = Card('Diamonds','Four')"
   ]
  },
  {
   "cell_type": "code",
   "execution_count": 4,
   "metadata": {},
   "outputs": [
    {
     "name": "stdout",
     "output_type": "stream",
     "text": [
      "Four of Diamonds\n"
     ]
    }
   ],
   "source": [
    "print(new_card)"
   ]
  },
  {
   "cell_type": "code",
   "execution_count": 5,
   "metadata": {},
   "outputs": [],
   "source": [
    "class Deck():\n",
    "    \n",
    "    def __init__(self):\n",
    "        \n",
    "        self.deck = []\n",
    "        \n",
    "        for suit in suits:\n",
    "            for rank in ranks:\n",
    "                self.deck.append(Card(suit,rank))\n",
    "                \n",
    "    def __str__(self):\n",
    "        \n",
    "        deck_comp = \"\"\n",
    "        \n",
    "        for card in self.deck:\n",
    "            deck_comp += '\\n' + card.__str__()\n",
    "            \n",
    "        return 'The deck has: ' + deck_comp\n",
    "                    \n",
    "    def shuffle(self):\n",
    "        \n",
    "        random.shuffle(self.deck)\n",
    "        \n",
    "    def deal(self):\n",
    "        \n",
    "        single_card = self.deck.pop()\n",
    "        return single_card"
   ]
  },
  {
   "cell_type": "code",
   "execution_count": 6,
   "metadata": {},
   "outputs": [],
   "source": [
    "new_deck = Deck()"
   ]
  },
  {
   "cell_type": "code",
   "execution_count": 7,
   "metadata": {},
   "outputs": [
    {
     "name": "stdout",
     "output_type": "stream",
     "text": [
      "The deck has: \n",
      "Two of Hearts\n",
      "Three of Hearts\n",
      "Four of Hearts\n",
      "Five of Hearts\n",
      "Six of Hearts\n",
      "Seven of Hearts\n",
      "Eight of Hearts\n",
      "Nine of Hearts\n",
      "Ten of Hearts\n",
      "Jack of Hearts\n",
      "Queen of Hearts\n",
      "King of Hearts\n",
      "Ace of Hearts\n",
      "Two of Diamonds\n",
      "Three of Diamonds\n",
      "Four of Diamonds\n",
      "Five of Diamonds\n",
      "Six of Diamonds\n",
      "Seven of Diamonds\n",
      "Eight of Diamonds\n",
      "Nine of Diamonds\n",
      "Ten of Diamonds\n",
      "Jack of Diamonds\n",
      "Queen of Diamonds\n",
      "King of Diamonds\n",
      "Ace of Diamonds\n",
      "Two of Spades\n",
      "Three of Spades\n",
      "Four of Spades\n",
      "Five of Spades\n",
      "Six of Spades\n",
      "Seven of Spades\n",
      "Eight of Spades\n",
      "Nine of Spades\n",
      "Ten of Spades\n",
      "Jack of Spades\n",
      "Queen of Spades\n",
      "King of Spades\n",
      "Ace of Spades\n",
      "Two of Clubs\n",
      "Three of Clubs\n",
      "Four of Clubs\n",
      "Five of Clubs\n",
      "Six of Clubs\n",
      "Seven of Clubs\n",
      "Eight of Clubs\n",
      "Nine of Clubs\n",
      "Ten of Clubs\n",
      "Jack of Clubs\n",
      "Queen of Clubs\n",
      "King of Clubs\n",
      "Ace of Clubs\n"
     ]
    }
   ],
   "source": [
    "print(new_deck)"
   ]
  },
  {
   "cell_type": "code",
   "execution_count": 8,
   "metadata": {},
   "outputs": [],
   "source": [
    "new_deck.shuffle()"
   ]
  },
  {
   "cell_type": "code",
   "execution_count": 9,
   "metadata": {},
   "outputs": [
    {
     "name": "stdout",
     "output_type": "stream",
     "text": [
      "The deck has: \n",
      "Four of Clubs\n",
      "Five of Diamonds\n",
      "Two of Diamonds\n",
      "Jack of Diamonds\n",
      "Four of Diamonds\n",
      "Eight of Spades\n",
      "Queen of Hearts\n",
      "King of Spades\n",
      "King of Clubs\n",
      "Queen of Clubs\n",
      "Jack of Clubs\n",
      "Nine of Hearts\n",
      "Six of Spades\n",
      "Three of Hearts\n",
      "Eight of Diamonds\n",
      "Ace of Diamonds\n",
      "Eight of Hearts\n",
      "Four of Spades\n",
      "Six of Diamonds\n",
      "Six of Clubs\n",
      "Queen of Diamonds\n",
      "Seven of Hearts\n",
      "Five of Spades\n",
      "Nine of Diamonds\n",
      "Three of Diamonds\n",
      "Two of Spades\n",
      "Nine of Clubs\n",
      "Jack of Hearts\n",
      "Nine of Spades\n",
      "Three of Clubs\n",
      "Ten of Spades\n",
      "Six of Hearts\n",
      "Ace of Spades\n",
      "Eight of Clubs\n",
      "Ace of Clubs\n",
      "Two of Hearts\n",
      "King of Hearts\n",
      "Four of Hearts\n",
      "Three of Spades\n",
      "Seven of Diamonds\n",
      "Seven of Clubs\n",
      "Ten of Clubs\n",
      "Ace of Hearts\n",
      "Ten of Diamonds\n",
      "Seven of Spades\n",
      "Ten of Hearts\n",
      "Five of Clubs\n",
      "Two of Clubs\n",
      "Jack of Spades\n",
      "Five of Hearts\n",
      "Queen of Spades\n",
      "King of Diamonds\n"
     ]
    }
   ],
   "source": [
    "print(new_deck)"
   ]
  },
  {
   "cell_type": "code",
   "execution_count": 19,
   "metadata": {},
   "outputs": [],
   "source": [
    "class Hand():\n",
    "    \n",
    "    def __init__(self):\n",
    "        \n",
    "        self.cards = []\n",
    "        self.value = 0 \n",
    "        self.aces = 0\n",
    "        \n",
    "    def add_card(self, card):\n",
    "        \n",
    "        self.cards.append(card)\n",
    "        self.value += values[card.rank]\n",
    "        \n",
    "        #track aces\n",
    "        if card.rank == 'Ace':\n",
    "            self.aces += 1\n",
    "        \n",
    "    def adj_for_aces(self):\n",
    "        \n",
    "        while self.value > 21 and self.aces > 0:\n",
    "            \n",
    "            self.value -= 10\n",
    "            self.aces -= 1"
   ]
  },
  {
   "cell_type": "code",
   "execution_count": 20,
   "metadata": {},
   "outputs": [
    {
     "name": "stdout",
     "output_type": "stream",
     "text": [
      "Six of Clubs\n",
      "6\n"
     ]
    }
   ],
   "source": [
    "test_deck = Deck()\n",
    "test_deck.shuffle()\n",
    "\n",
    "test_player = Hand()\n",
    "pulled_card = test_deck.deal()\n",
    "print(pulled_card)\n",
    "test_player.add_card(pulled_card)\n",
    "print(test_player.value)"
   ]
  },
  {
   "cell_type": "code",
   "execution_count": 21,
   "metadata": {},
   "outputs": [
    {
     "data": {
      "text/plain": [
       "14"
      ]
     },
     "execution_count": 21,
     "metadata": {},
     "output_type": "execute_result"
    }
   ],
   "source": [
    "test_player.add_card(test_deck.deal())\n",
    "\n",
    "test_player.value"
   ]
  },
  {
   "cell_type": "code",
   "execution_count": 22,
   "metadata": {},
   "outputs": [],
   "source": [
    "class Chips():\n",
    "    \n",
    "    def __init__(self):\n",
    "        \n",
    "        self.total = 100\n",
    "        self.bet = 0\n",
    "        \n",
    "    def win_bet(self):\n",
    "        \n",
    "        self.total += self.bet \n",
    "        \n",
    "    def lose_bet(self):\n",
    "        \n",
    "        self.total -= self.bet"
   ]
  },
  {
   "cell_type": "code",
   "execution_count": 23,
   "metadata": {},
   "outputs": [],
   "source": [
    "def take_bet(chips):\n",
    "    \n",
    "    while True:\n",
    "        \n",
    "        try:\n",
    "            chips.bet = int(input('How many chips would you like to bet? '))\n",
    "            \n",
    "        except:\n",
    "            print('Please provide an integer value!')\n",
    "            \n",
    "        else:\n",
    "            if chips.bet > chips.total:\n",
    "                print('Sorry, you do not have enough chips. You have: {} chips'.format(chips.total))\n",
    "                \n",
    "            else:\n",
    "                break"
   ]
  },
  {
   "cell_type": "code",
   "execution_count": 24,
   "metadata": {},
   "outputs": [],
   "source": [
    "def hit(deck, hand):\n",
    "    \n",
    "    single_card = deck.deal()\n",
    "    hand.add_card(single_card)\n",
    "    hand.adj_for_aces()"
   ]
  },
  {
   "cell_type": "code",
   "execution_count": 28,
   "metadata": {},
   "outputs": [],
   "source": [
    "def hit_or_stand(deck, hand):\n",
    "    global playing\n",
    "    \n",
    "    while True:\n",
    "        x = input('Do you want to Hit or Stand? Enter h or s: ')\n",
    "        \n",
    "        if x[0].lower() == 'h':\n",
    "            hit(deck, hand)\n",
    "            \n",
    "        elif x[0].lower() == 's':\n",
    "            print(\"Player stands. Dealer's turn\")\n",
    "            playing = False\n",
    "            \n",
    "        else:\n",
    "            print('Sorry, I did not understand that. Please enter h or s')\n",
    "            continue \n",
    "            \n",
    "        break "
   ]
  },
  {
   "cell_type": "code",
   "execution_count": 29,
   "metadata": {},
   "outputs": [],
   "source": [
    "def show_some(player, dealer):\n",
    "    \n",
    "    print(\"\\n Dealer's Hand!: \")\n",
    "    print(\"First card hidden!\")\n",
    "    print(dealer.cards[1])\n",
    "    \n",
    "    print(\"\\n Player's Hand!: \")\n",
    "    for card in player.cards:\n",
    "        print(card)\n",
    "        \n",
    "        \n",
    "def show_all(player, dealer):\n",
    "    \n",
    "    print(\"\\n Dealer's hand!: \")\n",
    "    for card in dealer.cards:\n",
    "        print(card)\n",
    "    print(f\"Value of dealer's hand is {dealer.value}\")\n",
    "    \n",
    "    print(\"\\n Player's hand!: \")\n",
    "    for card in player.cards:\n",
    "        print(card)\n",
    "    print(f\"Value of Player's hand is: {player.value}\")"
   ]
  },
  {
   "cell_type": "code",
   "execution_count": 32,
   "metadata": {},
   "outputs": [
    {
     "name": "stdout",
     "output_type": "stream",
     "text": [
      "Items are: \n",
      "1\n",
      "2\n",
      "3\n",
      "4\n"
     ]
    }
   ],
   "source": [
    "##SIDE NOTE\n",
    "\n",
    "items = [1,2,3,4]\n",
    "\n",
    "print('Items are: ',*items, sep = '\\n')\n",
    "\n",
    "##sep stands for seperator and the escape character indicates that i want this on a new line\n",
    "##this code can be used in the place of the for loop "
   ]
  },
  {
   "cell_type": "code",
   "execution_count": 33,
   "metadata": {},
   "outputs": [],
   "source": [
    "def player_busts(player, dealer, chips):\n",
    "    print('BUST PLAYER!')\n",
    "    chips.lose_bet()\n",
    "\n",
    "def player_wins(player, dealer, chips):\n",
    "    print('PLAYER WINS!')\n",
    "    chips.win_bet()\n",
    "\n",
    "def dealer_busts(player, dealer, chips):\n",
    "    print('DEALER BUSTS! PLAYER WINS')\n",
    "    chips.win_bet()\n",
    "\n",
    "def dealer_wins(player, dealer, chips):\n",
    "    print('DEALER WINS')\n",
    "    chips.lose_bet()\n",
    "    \n",
    "def push(player, dealer):\n",
    "    print('The player and dealer have tied. PUSH!')"
   ]
  },
  {
   "cell_type": "code",
   "execution_count": 35,
   "metadata": {},
   "outputs": [
    {
     "name": "stdout",
     "output_type": "stream",
     "text": [
      "WELCOME TO BLACKJACK!\n",
      "How many chips would you like to bet? 300\n",
      "Sorry, you do not have enough chips. You have: 100 chips\n",
      "How many chips would you like to bet? 50\n",
      "\n",
      " Dealer's Hand!: \n",
      "First card hidden!\n",
      "Jack of Clubs\n",
      "\n",
      " Player's Hand!: \n",
      "Ace of Clubs\n",
      "King of Clubs\n",
      "Do you want to Hit or Stand? Enter h or s: s\n",
      "Player stands. Dealer's turn\n",
      "\n",
      " Dealer's Hand!: \n",
      "First card hidden!\n",
      "Jack of Clubs\n",
      "\n",
      " Player's Hand!: \n",
      "Ace of Clubs\n",
      "King of Clubs\n",
      "\n",
      " Dealer's hand!: \n",
      "Queen of Clubs\n",
      "Jack of Clubs\n",
      "Ten of Clubs\n",
      "Value of dealer's hand is 30\n",
      "\n",
      " Player's hand!: \n",
      "Ace of Clubs\n",
      "King of Clubs\n",
      "Value of Player's hand is: 21\n",
      "DEALER BUSTS! PLAYER WINS\n",
      "\n",
      " The player has 150 chips\n",
      "Would you like to play a new game? Y or Nn\n",
      "Thank you for playing!\n"
     ]
    }
   ],
   "source": [
    "#ACTUAL GAME CODE\n",
    "\n",
    "\n",
    "while True:\n",
    "    \n",
    "    print('WELCOME TO BLACKJACK!')\n",
    "    \n",
    "    deck = Deck()\n",
    "    deck.shuffle\n",
    "    \n",
    "    player_hand = Hand()\n",
    "    player_hand.add_card(deck.deal())\n",
    "    player_hand.add_card(deck.deal())\n",
    "    \n",
    "    dealer_hand = Hand()\n",
    "    dealer_hand.add_card(deck.deal())\n",
    "    dealer_hand.add_card(deck.deal())\n",
    "    \n",
    "    player_chips = Chips()\n",
    "    take_bet(player_chips)\n",
    "    \n",
    "    show_some(player_hand, dealer_hand)\n",
    "    \n",
    "    while playing:\n",
    "        \n",
    "        hit_or_stand(deck, player_hand)\n",
    "        \n",
    "        show_some(player_hand, dealer_hand)\n",
    "        \n",
    "        if player_hand.value > 21:\n",
    "            player_busts(player_hand, dealer_hand, player_chips)\n",
    "            \n",
    "            break\n",
    "            \n",
    "    if player_hand.value <= 21:\n",
    "        \n",
    "        while dealer_hand.value < player_hand.value:\n",
    "            hit(deck, dealer_hand)\n",
    "            \n",
    "            \n",
    "        show_all(player_hand, dealer_hand)\n",
    "        \n",
    "        if dealer_hand.value > 21:\n",
    "            dealer_busts(player_hand, dealer_hand, player_chips)\n",
    "        elif dealer_hand.value > player_hand.value:\n",
    "            dealer_wins(player_hand, dealer_hand, player_chips)\n",
    "        elif dealer_hand.value < player_hand.value:\n",
    "            player_wins(player_hand, dealer_hand, player_chips)\n",
    "        else:\n",
    "            push(player_hand, dealer_hand)\n",
    "            \n",
    "            \n",
    "    print(\"\\n The player has {} chips\".format(player_chips.total))\n",
    "    \n",
    "    new_game = input('Would you like to play a new game? Y or N')\n",
    "    \n",
    "    if new_game[0].lower() == 'y':\n",
    "        playing = True\n",
    "        continue\n",
    "    else:\n",
    "        print('Thank you for playing!')\n",
    "        break "
   ]
  },
  {
   "cell_type": "code",
   "execution_count": null,
   "metadata": {},
   "outputs": [],
   "source": []
  }
 ],
 "metadata": {
  "kernelspec": {
   "display_name": "Python 3",
   "language": "python",
   "name": "python3"
  },
  "language_info": {
   "codemirror_mode": {
    "name": "ipython",
    "version": 3
   },
   "file_extension": ".py",
   "mimetype": "text/x-python",
   "name": "python",
   "nbconvert_exporter": "python",
   "pygments_lexer": "ipython3",
   "version": "3.8.5"
  }
 },
 "nbformat": 4,
 "nbformat_minor": 4
}
